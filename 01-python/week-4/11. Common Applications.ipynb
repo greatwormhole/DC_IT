{
 "cells": [
  {
   "cell_type": "markdown",
   "metadata": {
    "colab_type": "text",
    "id": "SJKDnn0fi-Np"
   },
   "source": [
    "# Прикладные задачи. Модули os, sys. Работа с архивами"
   ]
  },
  {
   "cell_type": "markdown",
   "metadata": {
    "colab_type": "text",
    "id": "0JVuEm5Y6ZRn"
   },
   "source": [
    "Для многих прикладных задач потребуется подключать специальные библиотеки, которые значительно облегчают процесс разработки и автоматизируют львиную долю стандартных операций. Ниже представим некоторые из них."
   ]
  },
  {
   "cell_type": "markdown",
   "metadata": {
    "colab_type": "text",
    "id": "3saG1xD4-JfF"
   },
   "source": [
    "## Обработка конфигурационных файлов"
   ]
  },
  {
   "cell_type": "markdown",
   "metadata": {
    "colab_type": "text",
    "id": "M417rJFT-fG3"
   },
   "source": [
    "### json\n",
    "\n",
    "JSON (JavaScript Object Notation) - простой формат обмена данными, основанный на подмножестве синтаксиса JavaScript. Модуль json позволяет кодировать и декодировать данные в удобном формате.\n",
    "\n",
    "Некоторые возможности библиотеки **json**\n",
    "\n",
    "**json.dump**`(obj, fp, skipkeys=False, ensure_ascii=True, check_circular=True, allow_nan=True, cls=None, indent=None, separators=None, default=None, sort_keys=False, **kw)` - сериализует obj как форматированный JSON поток в fp.\n",
    "\n",
    "**json.dumps**`(obj, skipkeys=False, ensure_ascii=True, check_circular=True, allow_nan=True, cls=None, indent=None, separators=None, default=None, sort_keys=False, **kw)` - сериализует obj в строку JSON-формата.\n",
    "\n",
    "**json.load**`(fp, cls=None, object_hook=None, parse_float=None, parse_int=None, parse_constant=None, object_pairs_hook=None, **kw)` - десериализует JSON из fp.\n",
    "\n",
    "**json.loads**`(s, encoding=None, cls=None, object_hook=None, parse_float=None, parse_int=None, parse_constant=None, object_pairs_hook=None, **kw)` - десериализует s (экземпляр str, содержащий документ JSON) в объект Python."
   ]
  },
  {
   "cell_type": "code",
   "execution_count": 18,
   "metadata": {
    "colab": {
     "base_uri": "https://localhost:8080/",
     "height": 170
    },
    "colab_type": "code",
    "executionInfo": {
     "elapsed": 976,
     "status": "ok",
     "timestamp": 1575465221468,
     "user": {
      "displayName": "Надежда Демиденко",
      "photoUrl": "https://lh3.googleusercontent.com/a-/AAuE7mA6D7k5OgtG9hzPe8Abs8DfOKAXQoTXaPfn7EY=s64",
      "userId": "05224310221243935536"
     },
     "user_tz": -180
    },
    "id": "gvxfsMJoi5C3",
    "outputId": "cf696a08-e536-4c05-b091-36e5947ea4f5"
   },
   "outputs": [
    {
     "name": "stdout",
     "output_type": "stream",
     "text": [
      "[\"foo\", {\"bar\": [\"baz\", null, 1.0, 2]}]\n",
      "{\"a\": 0, \"b\": 0, \"c\": 0}\n",
      "[\n",
      "    1,\n",
      "    2,\n",
      "    3,\n",
      "    {\n",
      "        \"4\":5,\n",
      "        \"6\":7\n",
      "    }\n",
      "]\n",
      "{\n",
      "    \"4\": 5,\n",
      "    \"6\": 7\n",
      "}\n",
      "['foo', {'bar': ['baz', None, 1.0, 2]}]\n",
      "\"foar\n"
     ]
    }
   ],
   "source": [
    "import json\n",
    "\n",
    "# Кодирование основных объектов Python\n",
    "print(json.dumps(['foo', {'bar': ('baz', None, 1.0, 2)}]))\n",
    "print(json.dumps({\"c\": 0, \"b\": 0, \"a\": 0}, sort_keys=True))\n",
    "\n",
    "# Компактное кодирование\n",
    "print(json.dumps([1,2,3,{'4': 5, '6': 7}], separators=(',', ':'), indent=4))\n",
    "\n",
    "# Красивый вывод\n",
    "print(json.dumps({'4': 5, '6': 7}, sort_keys=True, indent=4))\n",
    "\n",
    "# Декодирование (парсинг) JSON\n",
    "print(json.loads('[\"foo\", {\"bar\":[\"baz\", null, 1.0, 2]}]'))\n",
    "print(json.loads('\"\\\\\"foo\\\\bar\"'))"
   ]
  },
  {
   "cell_type": "code",
   "execution_count": null,
   "metadata": {},
   "outputs": [],
   "source": [
    "import json"
   ]
  },
  {
   "cell_type": "code",
   "execution_count": null,
   "metadata": {},
   "outputs": [],
   "source": [
    "json.loads('[\"foo\", {\"bar\":[\"baz\", null, 1.0, 2]}]')"
   ]
  },
  {
   "cell_type": "markdown",
   "metadata": {},
   "source": [
    "# Задание\n",
    "\n",
    "Задачи, аналогичные этой, часто встречаются в реальной веб-разработке. Будем получать и отдавать JSONы. К вам поступают данные в виде json-строки, в которых содержится список людей. Для каждого человека описаны различные его параметры, но вам нужно посчитать просто средний возраст всех людей из списка. Напишите функцию mean_age(json_string), которая принимает json строку, считает средний возраст людей из входных данных и возвращает новую json-строку с посчитанным возрастом. Формат входных и выходных данных указан в контесте в задаче Парсинг JSON, проверить правильность выполнения задания вы можете там же."
   ]
  },
  {
   "cell_type": "code",
   "execution_count": null,
   "metadata": {},
   "outputs": [],
   "source": [
    "# опишите решение здесь\n",
    "\n"
   ]
  },
  {
   "cell_type": "markdown",
   "metadata": {},
   "source": [
    "### yaml\n",
    "\n",
    "YAML (YAML Ain’t Markup Language) - еще один текстовый формат для записи данных.\n",
    "\n",
    "YAML более приятен для восприятия человеком, чем JSON, поэтому его часто используют для описания сценариев в ПО. Например, в Ansible.\n",
    "\n",
    "Для работы с YAML в Python используется модуль **pyyaml**. Он не входит в стандартную библиотеку модулей, поэтому его нужно установить:\n",
    "\n",
    "`pip install pyyaml`"
   ]
  },
  {
   "cell_type": "code",
   "execution_count": 2,
   "metadata": {},
   "outputs": [
    {
     "name": "stdout",
     "output_type": "stream",
     "text": [
      "{'workers': [{'age': 34, 'name': 'Имя1', 'occupation': 'Программист'},\n",
      "             {'age': 24, 'name': 'Имя2', 'occupation': 'Программист'},\n",
      "             {'age': 40, 'name': 'Имя3', 'occupation': 'Грузчик'}]}\n"
     ]
    }
   ],
   "source": [
    "# Чтение из YAML (файл info.yaml)\n",
    "\n",
    "import yaml\n",
    "from pprint import pprint # Модуль pprint позволяет красиво отображать объекты Python\n",
    "\n",
    "with open('11/yaml_example.yml', encoding='utf-8') as f:\n",
    "    templates = yaml.safe_load(f)\n",
    "\n",
    "pprint(templates) # Использование функции модуля pprint для вывода"
   ]
  },
  {
   "cell_type": "code",
   "execution_count": 3,
   "metadata": {},
   "outputs": [
    {
     "name": "stdout",
     "output_type": "stream",
     "text": [
      "access:\n",
      "- switchport mode access\n",
      "- switchport access vlan\n",
      "- switchport nonegotiate\n",
      "- spanning-tree portfast\n",
      "- spanning-tree bpduguard enable\n",
      "trunk:\n",
      "- switchport trunk encapsulation dot1q\n",
      "- switchport mode trunk\n",
      "- switchport trunk native vlan 999\n",
      "- switchport trunk allowed vlan\n",
      "\n"
     ]
    }
   ],
   "source": [
    "# Запись в YAML\n",
    "\n",
    "trunk_template = [\n",
    "    'switchport trunk encapsulation dot1q', 'switchport mode trunk',\n",
    "    'switchport trunk native vlan 999', 'switchport trunk allowed vlan'\n",
    "]\n",
    "\n",
    "access_template = [\n",
    "    'switchport mode access', 'switchport access vlan',\n",
    "    'switchport nonegotiate', 'spanning-tree portfast',\n",
    "    'spanning-tree bpduguard enable'\n",
    "]\n",
    "\n",
    "to_yaml = {'trunk': trunk_template, 'access': access_template}\n",
    "\n",
    "with open('11/sw_templates.yaml', 'w') as f:\n",
    "    yaml.dump(to_yaml, f)\n",
    "\n",
    "with open('11/sw_templates.yaml') as f:\n",
    "    print(f.read())"
   ]
  },
  {
   "cell_type": "markdown",
   "metadata": {
    "colab_type": "text",
    "id": "rsw5t_qw05x8"
   },
   "source": [
    "## Системные библиотеки\n",
    "\n",
    "### Модуль **os**\n",
    "\n",
    "Модуль os предоставляет множество функций для работы с операционной системой, причём их поведение, как правило, не зависит от ОС, поэтому программы остаются переносимыми. Здесь будут приведены наиболее часто используемые из них.\n",
    "\n",
    "Будьте внимательны: некоторые функции из этого модуля поддерживаются не всеми ОС.\n",
    "\n",
    "|Функция|Что делает|\n",
    "|---|:---|\n",
    "|`os.name`|имя операционной системы. Доступные варианты: 'posix', 'nt', 'mac', 'os2', 'ce', 'java'|\n",
    "|`os.environ`|словарь переменных окружения. Изменяемый (можно добавлять и удалять переменные окружения)|\n",
    "|`os.getlogin()`|имя пользователя, вошедшего в терминал (Unix)|\n",
    "|`os.getpid()`|текущий id процесса|\n",
    "|`os.uname()`|информация об ОС. возвращает объект с атрибутами: sysname - имя операционной системы, nodename - имя машины в сети (определяется реализацией), release - релиз, version - версия, machine - идентификатор машины|\n",
    "|`os.access(path, mode, *, dir_fd=None, effective_ids=False, follow_symlinks=True)`|проверка доступа к объекту у текущего пользователя. Флаги: `os.F_OK` - объект существует, `os.R_OK` - доступен на чтение, `os.W_OK` - доступен на запись, `os.X_OK` - доступен на исполнение|\n",
    "|`os.chdir(path)`|смена текущей директории|\n",
    "|`os.chmod(path, mode, *, dir_fd=None, follow_symlinks=True)`|смена прав доступа к объекту (mode - восьмеричное число)|\n",
    "|`os.chown(path, uid, gid, *, dir_fd=None, follow_symlinks=True)`|меняет id владельца и группы (Unix)|\n",
    "|`os.getcwd()`|текущая рабочая директория|\n",
    "|`os.link(src, dst, *, src_dir_fd=None, dst_dir_fd=None, follow_symlinks=True)`|создаёт жёсткую ссылку|\n",
    "|`os.listdir(path=\".\")`|список файлов и директорий в папке|\n",
    "|`os.mkdir(path, mode=0o777, *, dir_fd=None)`|создаёт директорию. OSError, если директория существует|\n",
    "|`os.makedirs(path, mode=0o777, exist_ok=False)`|создаёт директорию, создавая при этом промежуточные директории|\n",
    "|`os.remove(path, *, dir_fd=None)`|удаляет путь к файлу|\n",
    "|`os.rename(src, dst, *, src_dir_fd=None, dst_dir_fd=None)`|переименовывает файл или директорию из src в dst|\n",
    "|`os.renames(old, new)`|переименовывает old в new, создавая промежуточные директории|\n",
    "|`os.replace(src, dst, *, src_dir_fd=None, dst_dir_fd=None)`|переименовывает из src в dst с принудительной заменой|\n",
    "|`os.rmdir(path, *, dir_fd=None)`|удаляет пустую директорию|\n",
    "|`os.removedirs(path)`|удаляет директорию, затем пытается удалить родительские директории, и удаляет их рекурсивно, пока они пусты|\n",
    "|`os.symlink(source, link_name, target_is_directory=False, *, dir_fd=None)`|создаёт символическую ссылку на объект|\n",
    "|`os.sync()`|записывает все данные на диск (Unix)|\n",
    "|`os.truncate(path, length)`|обрезает файл до длины length|\n",
    "|`os.utime(path, times=None, *, ns=None, dir_fd=None, follow_symlinks=True)`|модификация времени последнего доступа и изменения файла. Либо times - кортеж (время доступа в секундах, время изменения в секундах), либо ns - кортеж (время доступа в наносекундах, время изменения в наносекундах)|\n",
    "|`os.walk(top, topdown=True, onerror=None, followlinks=False)`|генерация имён файлов в дереве каталогов, сверху вниз (если topdown равен True), либо снизу вверх (если False). Для каждого каталога функция walk возвращает кортеж (путь к каталогу, список каталогов, список файлов)|\n",
    "|`os.system(command)`|исполняет системную команду, возвращает код её завершения (в случае успеха 0)|\n",
    "|`os.urandom(n)`|n случайных байт. Возможно использование этой функции в криптографических целях|\n",
    "|`os.path`|модуль, реализующий некоторые полезные функции на работы с путями|"
   ]
  },
  {
   "cell_type": "code",
   "execution_count": 17,
   "metadata": {},
   "outputs": [
    {
     "data": {
      "text/plain": [
       "'posix'"
      ]
     },
     "execution_count": 17,
     "metadata": {},
     "output_type": "execute_result"
    }
   ],
   "source": [
    "import os\n",
    "\n",
    "os.name"
   ]
  },
  {
   "cell_type": "markdown",
   "metadata": {
    "colab_type": "text",
    "id": "uQ7lQPTfmmo7"
   },
   "source": [
    "#### Некоторые распространенные функции os\n",
    "\n",
    "- **os.getcwd**\n",
    "\n",
    "Текущая рабочая директория\n",
    "\n",
    "- **os.path.join**\n",
    "\n",
    "Метод join позволяет вам совместить несколько путей при помощи присвоенного разделителя. К примеру, в Windows, в роли разделителя выступает бэкслэш (косая черта, указывающая назад), однако в Linux функция разделителя присвоена косой черте, указывающей вперед (forward slash).\n",
    "\n",
    "- **os.listdir**\n",
    "\n",
    "Cписок файлов и директорий в папке\n",
    "\n",
    "- **os.environ**\n",
    "\n",
    "Значение os.environ известно как объект мэппинга (сопоставления), который работает со словарем переменных пользовательской среды. "
   ]
  },
  {
   "cell_type": "code",
   "execution_count": 6,
   "metadata": {
    "colab": {
     "base_uri": "https://localhost:8080/",
     "height": 105
    },
    "colab_type": "code",
    "executionInfo": {
     "elapsed": 986,
     "status": "ok",
     "timestamp": 1575643562305,
     "user": {
      "displayName": "Надежда Демиденко",
      "photoUrl": "https://lh3.googleusercontent.com/a-/AAuE7mA6D7k5OgtG9hzPe8Abs8DfOKAXQoTXaPfn7EY=s64",
      "userId": "05224310221243935536"
     },
     "user_tz": -180
    },
    "id": "U3zdcipPmWf3",
    "outputId": "4ef9bcf6-454a-43d1-f7a0-f2649e7cc9db"
   },
   "outputs": [
    {
     "name": "stdout",
     "output_type": "stream",
     "text": [
      "c:\\Users\\nikit\\Programming\\dc-web-developer-2022\\01-python\\week-4\\text.txt\n"
     ]
    }
   ],
   "source": [
    "import os\n",
    "\n",
    "# print(os.getcwd())\n",
    "# print(os.path.join(os.getcwd(), 'text.txt'))\n",
    "# print(os.listdir(path=\"11\"))\n",
    "# print(os.environ)"
   ]
  },
  {
   "cell_type": "markdown",
   "metadata": {
    "colab_type": "text",
    "id": "WGjjHfCc33tC"
   },
   "source": [
    "### Модуль **sys**\n",
    "\n",
    "Модуль sys обеспечивает доступ к некоторым переменным и функциям, взаимодействующим с интерпретатором python.\n",
    "\n",
    "|Функция|Что делает|\n",
    "|---|:---|\n",
    "|`sys.argv`|список аргументов командной строки, передаваемых сценарию Python. `sys.argv[0]` является именем скрипта (пустой строкой в интерактивной оболочке)|\n",
    "|`sys.byteorder`|порядок байтов. Будет иметь значение 'big' при порядке следования битов от старшего к младшему, и 'little', если наоборот (младший байт первый)|\n",
    "|`sys.builtin_module_names`|кортеж строк, содержащий имена всех доступных модулей|\n",
    "|`sys.call_tracing(функция, аргументы)`|вызывает функцию с аргументами и включенной трассировкой, в то время как трассировка включена|\n",
    "|`sys.copyright`|строка, содержащая авторские права, относящиеся к интерпретатору Python|\n",
    "|`sys._clear_type_cache()`|очищает внутренний кэш типа|\n",
    "|`sys._current_frames()`|возвращает словарь-отображение идентификатора для каждого потока в верхнем кадре стека в настоящее время в этом потоке в момент вызова функции|\n",
    "|`sys.dllhandle`|целое число, определяющее дескриптор DLL Python (Windows)|\n",
    "|`sys.exc_info()`|возвращает кортеж из трех значений, которые дают информацию об исключениях, обрабатывающихся в данный момент|\n",
    "|`sys.exec_prefix`|каталог установки Python|\n",
    "|`sys.executable`|путь к интерпретатору Python|\n",
    "|`sys.exit([arg])`|выход из Python. Возбуждает исключение SystemExit, которое может быть перехвачено|\n",
    "|`sys.flags`|флаги командной строки. Атрибуты только для чтения|\n",
    "|`sys.float_info`|информация о типе данных float|\n",
    "|`sys.float_repr_style`|информация о применении встроенной функции repr() для типа float|\n",
    "|`sys.getdefaultencoding()`|возвращает используемую кодировку|\n",
    "|`sys.getdlopenflags()`|значения флагов для вызовов dlopen()|\n",
    "|`sys.getfilesystemencoding()`|возвращает кодировку файловой системы|\n",
    "|`sys.getrefcount(object)`|возвращает количество ссылок на объект. Аргумент функции getrefcount - еще одна ссылка на объект|\n",
    "|`sys.getrecursionlimit()`|возвращает лимит рекурсии|\n",
    "|`sys.getsizeof(object[, default])`|возвращает размер объекта (в байтах)|\n",
    "|`sys.getswitchinterval()`|интервал переключения потоков|\n",
    "|`sys.getwindowsversion()`|возвращает кортеж, описывающий версию Windows|\n",
    "|`sys.hash_info`|информация о параметрах хэширования|\n",
    "|`sys.hexversion`|версия python как шестнадцатеричное число (для 3.2.2 final это будет 30202f0)|\n",
    "|`sys.implementation`|объект, содержащий информацию о запущенном интерпретаторе python|\n",
    "|`sys.int_info`|информация о типе int|\n",
    "|`sys.intern(строка)`|возвращает интернированную строку|\n",
    "|`sys.last_type`, `sys.last_value`, `sys.last_traceback`|информация об обрабатываемых исключениях. По смыслу похоже на `sys.exc_info()`|\n",
    "|`sys.maxsize`|максимальное значение числа типа Py_ssize_t (231 на 32-битных и 263 на 64-битных платформах)|\n",
    "|`sys.maxunicode`|максимальное число бит для хранения символа Unicode|\n",
    "|`sys.modules`|словарь имен загруженных модулей. Изменяем|\n",
    "|`sys.path`|список путей поиска модулей|\n",
    "|`sys.path_importer_cache`|словарь-кэш для поиска объектов|\n",
    "|`sys.platform`|информация об операционной системе|\n",
    "|`sys.prefix`|папка установки интерпретатора python|\n",
    "|`sys.ps1`, `sys.ps2`|первичное и вторичное приглашение интерпретатора (определены только если интерпретатор находится в интерактивном режиме). По умолчанию `sys.ps1 == \">>> \"`, а `sys.ps2 == \"... \"`|\n",
    "|`sys.dont_write_bytecode`|если true, python не будет писать .pyc файлы|\n",
    "|`sys.setdlopenflags(flags)`|установить значения флагов для вызовов dlopen()|\n",
    "|`sys.setrecursionlimit(предел)`|установить максимальную глубину рекурсии|\n",
    "|`sys.setswitchinterval(интервал)`|установить интервал переключения потоков|\n",
    "|`sys.settrace(tracefunc)`|установить \"след\" функции|\n",
    "|`sys.stdin`|стандартный ввод|\n",
    "|`sys.stdout`|стандартный вывод|\n",
    "|`sys.stderr`|стандартный поток ошибок|\n",
    "|`sys.__stdin__`, `sys.__stdout__`, `sys.__stderr__`|исходные значения потоков ввода, вывода и ошибок|\n",
    "|`sys.tracebacklimit`|максимальное число уровней отслеживания|\n",
    "|`sys.version`|версия python|\n",
    "|`sys.api_version`|версия C API|\n",
    "|`sys.version_info`|Кортеж, содержащий пять компонентов номера версии|\n",
    "|`sys.warnoptions`|реализация предупреждений|\n",
    "|`sys.winver`|номер версии python, использующийся для формирования реестра Windows|"
   ]
  },
  {
   "cell_type": "markdown",
   "metadata": {
    "colab_type": "text",
    "id": "2KPGVxKjpuTw"
   },
   "source": [
    "#### Некоторые распространенные константы sys\n",
    "\n",
    "- **sys.path**\n",
    "\n",
    "это список строк, которые указывают путь поиска для модулей. Как правило, данная функция указывает Python, в каких локациях смотреть, когда он пытается импортировать модуль. В соответствии с документацией Python, sys.path инициализируется из переменной окружения PYTHONPATH, плюс зависимое от установки значение, указанное по умолчанию.\n",
    "\n",
    "- **sys.platform**\n",
    "\n",
    "Значение sys.platform – идентификатор платформы. Вы можете использовать sys.platform чтобы добавлять модули к sys.path, импортировать разные модули, в зависимости от платформы, или запускать разные части кода. \n",
    "\n",
    "- **sys.stdin** / **stdout** / **stderr**\n",
    "\n",
    "Stdin, stdout и stderr сопоставляются с файловыми объектами, которые соответствуют стандартным входам, выходам и потокам ошибок интерпретатора соответственно. Функция stdin используется для всех входов, используемых интерпретатором, за исключением скриптов, тогда как stdout используется для выходов операторов print и expression. Возможное применение - перенаправить stdout или stderr, или обе функции к файлу, такому как log, либо же какой-либо дисплей в пользовательском графическом интерфейсе, созданным вами."
   ]
  },
  {
   "cell_type": "code",
   "execution_count": 24,
   "metadata": {
    "colab": {
     "base_uri": "https://localhost:8080/",
     "height": 122
    },
    "colab_type": "code",
    "executionInfo": {
     "elapsed": 833,
     "status": "ok",
     "timestamp": 1575643885811,
     "user": {
      "displayName": "Надежда Демиденко",
      "photoUrl": "https://lh3.googleusercontent.com/a-/AAuE7mA6D7k5OgtG9hzPe8Abs8DfOKAXQoTXaPfn7EY=s64",
      "userId": "05224310221243935536"
     },
     "user_tz": -180
    },
    "id": "gBDd6MJnp56W",
    "outputId": "184215b7-da4f-495d-b47f-95f993a41c02"
   },
   "outputs": [
    {
     "name": "stdout",
     "output_type": "stream",
     "text": [
      "<_io.TextIOWrapper name='<stdin>' mode='r' encoding='utf-8'>\n",
      "<ipykernel.iostream.OutStream object at 0x7fa6d00810d0>\n",
      "<ipykernel.iostream.OutStream object at 0x7fa6d0068ee0>\n"
     ]
    }
   ],
   "source": [
    "import sys\n",
    "\n",
    "# print(sys.path)\n",
    "# print(sys.platform)\n",
    "print(sys.stdin)\n",
    "print(sys.stdout)\n",
    "print(sys.stderr)"
   ]
  },
  {
   "cell_type": "markdown",
   "metadata": {},
   "source": [
    "## Консервация объектов\n",
    "\n",
    "Модуль `pickle` (англ. pickle - консервировать) реализует мощный алгоритм сериализации и десериализации объектов Python. \"Pickling\" - процесс преобразования объекта Python в поток байтов, а \"unpickling\" - обратная операция, в результате которой поток байтов преобразуется обратно в Python-объект. Так как поток байтов легко можно записать в файл, модуль `pickle` широко применяется для сохранения и загрузки сложных объектов в Python.\n",
    "\n",
    "Модуль pickle предоставляет следующие функции для удобства сохранения/загрузки объектов:\n",
    "\n",
    "- `pickle.dump(obj, file, protocol=None, *, fix_imports=True)`\\\n",
    "Записывает сериализованный объект в файл. Дополнительный аргумент protocol указывает используемый протокол. По умолчанию равен 3 и именно он рекомендован для использования в Python 3 (несмотря на то, что в Python 3.4 добавили протокол версии 4 с некоторыми оптимизациями). В любом случае, записывать и загружать надо с одним и тем же протоколом.\n",
    "\n",
    "- `pickle.dumps(obj, protocol=None, *, fix_imports=True)`\\\n",
    "Возвращает сериализованный объект. Впоследствии вы его можете использовать как угодно.\n",
    "\n",
    "- `pickle.load(file, *, fix_imports=True, encoding=\"ASCII\", errors=\"strict\")`\\\n",
    "Загружает объект из файла.\n",
    "\n",
    "- `pickle.loads(bytes_object, *, fix_imports=True, encoding=\"ASCII\", errors=\"strict\")`\\\n",
    "Загружает объект из потока байт.\n",
    "\n",
    "Модуль `pickle` также определяет несколько исключений:\n",
    "\n",
    "`pickle.PickleError`\n",
    "- `pickle.PicklingError` - случились проблемы с сериализацией объекта.\n",
    "- `pickle.UnpicklingError` - случились проблемы с десериализацией объекта.\n",
    "\n",
    "Этих функций вполне достаточно для сохранения и загрузки встроенных типов данных.\n",
    "\n"
   ]
  },
  {
   "cell_type": "code",
   "execution_count": 7,
   "metadata": {},
   "outputs": [],
   "source": [
    "import pickle\n",
    "\n",
    "data = {\n",
    "    'a': [1, 2.0, 3, 4+6j],\n",
    "    'b': (\"character string\", b\"byte string\"),\n",
    "    'c': {None, True, False}\n",
    "}\n",
    "\n",
    "with open('11/data.pickle', 'wb') as f:\n",
    "    pickle.dump(data, f)"
   ]
  },
  {
   "cell_type": "code",
   "execution_count": 19,
   "metadata": {},
   "outputs": [
    {
     "name": "stdout",
     "output_type": "stream",
     "text": [
      "{'a': [1, 2.0, 3, (4+6j)], 'b': ('character string', b'byte string'), 'c': {False, True, None}}\n"
     ]
    }
   ],
   "source": [
    "with open('11/data.pickle', 'rb') as f:\n",
    "    data_new = pickle.load(f)\n",
    "\n",
    "print(data_new)"
   ]
  },
  {
   "cell_type": "markdown",
   "metadata": {},
   "source": [
    "Можно консервировать и более сложные объекты:"
   ]
  },
  {
   "cell_type": "code",
   "execution_count": 25,
   "metadata": {},
   "outputs": [
    {
     "name": "stdout",
     "output_type": "stream",
     "text": [
      "<function converter at 0x0000027B705D7880>\n"
     ]
    }
   ],
   "source": [
    "def converter(a, b):\n",
    "    return a * 10 + b\n",
    "\n",
    "\n",
    "with open('11/converter.pickle', 'wb') as f:\n",
    "    pickle.dump(converter, f)\n",
    "    f.close()\n",
    "with open(\"11/converter.pickle\", \"rb\") as f:\n",
    "    print(pickle.load(f)(1, 2))"
   ]
  },
  {
   "cell_type": "code",
   "execution_count": 28,
   "metadata": {},
   "outputs": [
    {
     "data": {
      "text/plain": [
       "[12, 57, 120]"
      ]
     },
     "execution_count": 28,
     "metadata": {},
     "output_type": "execute_result"
    }
   ],
   "source": [
    "def convert(values, converter):\n",
    "    return [converter(*value) for value in values]\n",
    "    \n",
    "    \n",
    "with open('11/converter.pickle', 'rb') as f:\n",
    "    saved_converter = pickle.load(f)\n",
    "    \n",
    "data = [(1, 2), (5, 7), (10, 20)]\n",
    "convert(data, saved_converter)"
   ]
  },
  {
   "cell_type": "code",
   "execution_count": 8,
   "metadata": {},
   "outputs": [
    {
     "ename": "NameError",
     "evalue": "name 'saved_converter' is not defined",
     "output_type": "error",
     "traceback": [
      "\u001b[1;31m---------------------------------------------------------------------------\u001b[0m",
      "\u001b[1;31mNameError\u001b[0m                                 Traceback (most recent call last)",
      "Cell \u001b[1;32mIn [8], line 1\u001b[0m\n\u001b[1;32m----> 1\u001b[0m saved_converter\n",
      "\u001b[1;31mNameError\u001b[0m: name 'saved_converter' is not defined"
     ]
    }
   ],
   "source": [
    "saved_converter"
   ]
  }
 ],
 "metadata": {
  "colab": {
   "name": "topic11.ipynb",
   "provenance": []
  },
  "kernelspec": {
   "display_name": "Python 3.10.7 64-bit",
   "language": "python",
   "name": "python3"
  },
  "language_info": {
   "codemirror_mode": {
    "name": "ipython",
    "version": 3
   },
   "file_extension": ".py",
   "mimetype": "text/x-python",
   "name": "python",
   "nbconvert_exporter": "python",
   "pygments_lexer": "ipython3",
   "version": "3.10.7"
  },
  "vscode": {
   "interpreter": {
    "hash": "e7d4d1fdefab968d87dae697830712be305784682ed311731942beb8000e292d"
   }
  }
 },
 "nbformat": 4,
 "nbformat_minor": 1
}
